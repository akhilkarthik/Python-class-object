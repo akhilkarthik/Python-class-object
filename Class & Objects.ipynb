{
 "cells": [
  {
   "cell_type": "markdown",
   "id": "ddc9f2b3",
   "metadata": {},
   "source": [
    "Almost everything in python is an **object**, with properties/ **atributes** and functions/ **Methods**\n",
    "\n",
    "Atributes >> inbuilt datatype\n",
    "\n",
    "Methods  >> how you invoke a function inside class\n",
    "\n",
    "A **class** is like an object constructor or a blue print for creating object"
   ]
  },
  {
   "cell_type": "markdown",
   "id": "3d04a7d9",
   "metadata": {},
   "source": [
    "**Objects**  are specific instances of a class"
   ]
  },
  {
   "cell_type": "markdown",
   "id": "a08bd25d",
   "metadata": {},
   "source": [
    "### Creating a class"
   ]
  },
  {
   "cell_type": "code",
   "execution_count": 72,
   "id": "da5fd5cb",
   "metadata": {},
   "outputs": [],
   "source": [
    "class Phone:            # creating a class called \"phone\"\n",
    "    \n",
    "    def make_phonecall(self):                      # adding a \"method\" to call\n",
    "        print(\"let's make a phone call\")\n",
    "    \n",
    "    def play_game(self):                           # adding a \"method\" to play game\n",
    "        print(\"let's play a game\")\n",
    "        "
   ]
  },
  {
   "cell_type": "markdown",
   "id": "23e91d54",
   "metadata": {},
   "source": [
    "Here we have created a class called  **Phone**  and created two  **methods**  inside the class"
   ]
  },
  {
   "cell_type": "code",
   "execution_count": 73,
   "id": "d52bf886",
   "metadata": {},
   "outputs": [],
   "source": [
    "Nokia = Phone()                         # creating an object called \"Nokia\" inside the class"
   ]
  },
  {
   "cell_type": "markdown",
   "id": "4478d4b3",
   "metadata": {},
   "source": [
    "Now we have created an **Object** inside the class called \"Nokia\""
   ]
  },
  {
   "cell_type": "code",
   "execution_count": 74,
   "id": "bb15b9c9",
   "metadata": {},
   "outputs": [
    {
     "name": "stdout",
     "output_type": "stream",
     "text": [
      "let's make a phone call\n"
     ]
    }
   ],
   "source": [
    "Nokia.make_phonecall()                  # calling the \"methods\" through \"object\" of the class using \"dot method\""
   ]
  },
  {
   "cell_type": "markdown",
   "id": "03f7cb0b",
   "metadata": {},
   "source": [
    "### Adding more methods in a class"
   ]
  },
  {
   "cell_type": "code",
   "execution_count": 76,
   "id": "339495f9",
   "metadata": {},
   "outputs": [],
   "source": [
    "class Phone:\n",
    "    \n",
    "    def set_color(self,color): # since we need to assign values we are adding another attribute in this method\n",
    "        self.color=color\n",
    "        \n",
    "    def set_cost(self,cost):\n",
    "        self.cost=cost\n",
    "    \n",
    "    def show_color(self):    # since we dont have to assign new values we are using only self here\n",
    "        print(self.color)\n",
    "        \n",
    "    def show_cost(self):\n",
    "        print(self.cost)\n",
    "    \n",
    "    def make_phonecall(self):                      \n",
    "        print(\"let's make a phone call\")\n",
    "    \n",
    "    def play_game(self):                          \n",
    "        print(\"let's play a game\")"
   ]
  },
  {
   "cell_type": "code",
   "execution_count": 78,
   "id": "e8b144ad",
   "metadata": {},
   "outputs": [],
   "source": [
    "Nokia=Phone()"
   ]
  },
  {
   "cell_type": "code",
   "execution_count": 80,
   "id": "774bb712",
   "metadata": {},
   "outputs": [],
   "source": [
    "Nokia.set_color(\"Blue\")"
   ]
  },
  {
   "cell_type": "code",
   "execution_count": 82,
   "id": "0dda9538",
   "metadata": {},
   "outputs": [],
   "source": [
    "Nokia.set_cost(500)"
   ]
  },
  {
   "cell_type": "code",
   "execution_count": 85,
   "id": "32f1e48a",
   "metadata": {},
   "outputs": [
    {
     "name": "stdout",
     "output_type": "stream",
     "text": [
      "500\n"
     ]
    }
   ],
   "source": [
    "Nokia.show_cost()"
   ]
  },
  {
   "cell_type": "code",
   "execution_count": 87,
   "id": "69aa66e2",
   "metadata": {},
   "outputs": [
    {
     "name": "stdout",
     "output_type": "stream",
     "text": [
      "Blue\n"
     ]
    }
   ],
   "source": [
    "Nokia.show_color()"
   ]
  },
  {
   "cell_type": "markdown",
   "id": "38edae9a",
   "metadata": {},
   "source": [
    "### Creating a Class with Constructor"
   ]
  },
  {
   "cell_type": "markdown",
   "id": "ad7c4f66",
   "metadata": {},
   "source": [
    "**\"Constructor\"** is a special type of function, with which we can already assign values to all the attributes\n",
    "\n",
    "when we craeate an object, all of the attributes inside the class will initialize\n",
    "\n",
    "By default in python we name it as **\" __init__ \"**"
   ]
  },
  {
   "cell_type": "code",
   "execution_count": 90,
   "id": "785d5b23",
   "metadata": {},
   "outputs": [],
   "source": [
    "class Employee:\n",
    "    \n",
    "    def __init__(self,name,age,gender,salary):\n",
    "        \n",
    "        self.name=name\n",
    "        self.age=age\n",
    "        self.gender=gender\n",
    "        self.salary=salary\n",
    "        \n",
    "    def employee_details(self):\n",
    "        \n",
    "        print(\"The name of the employee is \",self.name)\n",
    "        print(\"The age of the employee is \",self.age)\n",
    "        print(\"The gender of the employee is \",self.gender)\n",
    "        print(\"The salary of the employee is \",self.salary)   "
   ]
  },
  {
   "cell_type": "code",
   "execution_count": 95,
   "id": "d5374ba6",
   "metadata": {},
   "outputs": [],
   "source": [
    "emp1=Employee(\"akhil\",26,\"Male\",\"50000\")"
   ]
  },
  {
   "cell_type": "code",
   "execution_count": 97,
   "id": "bc3f543f",
   "metadata": {},
   "outputs": [
    {
     "name": "stdout",
     "output_type": "stream",
     "text": [
      "The name of the employee is  akhil\n",
      "The age of the employee is  26\n",
      "The gender of the employee is  Male\n",
      "The salary of the employee is  50000\n"
     ]
    }
   ],
   "source": [
    "emp1.employee_details()"
   ]
  },
  {
   "cell_type": "markdown",
   "id": "a107271b",
   "metadata": {},
   "source": [
    "### Inheritance in Python"
   ]
  },
  {
   "cell_type": "markdown",
   "id": "709fa744",
   "metadata": {},
   "source": [
    "When a child class inherit the properties of parent class it is called inheritance in python"
   ]
  },
  {
   "cell_type": "code",
   "execution_count": 139,
   "id": "fdb90e85",
   "metadata": {},
   "outputs": [],
   "source": [
    "class Vehicle:                                      # creating a parent class\n",
    "    \n",
    "    def __init__(self,name,color,cost,mileage):      # creating methods and atributes for parent class\n",
    "        \n",
    "        self.name=name\n",
    "        self.color=color\n",
    "        self.cost=cost\n",
    "        self.mileage=mileage\n",
    "        \n",
    "    def vehicleDetails(self):\n",
    "        print(\"Name of the vehicle is\",self.name)\n",
    "        print(\"color of the vehicle is\",self.color)\n",
    "        print(\"cost of the vehicle is\",self.cost)\n",
    "        print(\"mileage of the vehicle is\",self.mileage)      "
   ]
  },
  {
   "cell_type": "code",
   "execution_count": 140,
   "id": "8d1b49bf",
   "metadata": {},
   "outputs": [],
   "source": [
    "class twowheeler(Vehicle):       # Creating child class called \"twowheeler\" and inheriting the properties of \"vehicle\" class\n",
    "    def twowheeler_details(self):\n",
    "        print(\"This is a two wheeler\")\n",
    "    pass\n",
    "class fourwheeler(Vehicle):\n",
    "    \n",
    "    def fourwheeler_details(self):\n",
    "        print(\"This is a four wheeler\")\n",
    "    pass"
   ]
  },
  {
   "cell_type": "code",
   "execution_count": 141,
   "id": "8225046f",
   "metadata": {},
   "outputs": [],
   "source": [
    "v1=twowheeler(\"Activa\",\"red\",80000,45)     # adding object in child class\n",
    "v2=fourwheeler(\"Bmw\",\"black\",4000000,40)"
   ]
  },
  {
   "cell_type": "code",
   "execution_count": 142,
   "id": "ab509245",
   "metadata": {},
   "outputs": [
    {
     "name": "stdout",
     "output_type": "stream",
     "text": [
      "Name of the vehicle is Activa\n",
      "color of the vehicle is red\n",
      "cost of the vehicle is 80000\n",
      "mileage of the vehicle is 45\n"
     ]
    }
   ],
   "source": [
    "v1.vehicleDetails()                       # using objects to call out the method of parent vehicle class\n",
    "                                            # invoking the parent class method"
   ]
  },
  {
   "cell_type": "code",
   "execution_count": 143,
   "id": "8173abb2",
   "metadata": {},
   "outputs": [
    {
     "name": "stdout",
     "output_type": "stream",
     "text": [
      "Name of the vehicle is Bmw\n",
      "color of the vehicle is black\n",
      "cost of the vehicle is 4000000\n",
      "mileage of the vehicle is 40\n"
     ]
    }
   ],
   "source": [
    "v2.vehicleDetails()"
   ]
  },
  {
   "cell_type": "code",
   "execution_count": 144,
   "id": "50722cbc",
   "metadata": {},
   "outputs": [
    {
     "name": "stdout",
     "output_type": "stream",
     "text": [
      "This is a four wheeler\n"
     ]
    }
   ],
   "source": [
    "v2.fourwheeler_details()                # invoking the child class method"
   ]
  },
  {
   "cell_type": "code",
   "execution_count": 145,
   "id": "efe8c541",
   "metadata": {},
   "outputs": [
    {
     "name": "stdout",
     "output_type": "stream",
     "text": [
      "This is a two wheeler\n"
     ]
    }
   ],
   "source": [
    "v1.twowheeler_details()"
   ]
  },
  {
   "cell_type": "markdown",
   "id": "6e7c4802",
   "metadata": {},
   "source": [
    "### Overriding __init__ method"
   ]
  },
  {
   "cell_type": "code",
   "execution_count": 148,
   "id": "23ca197a",
   "metadata": {},
   "outputs": [],
   "source": [
    "class Vehicle:                      #creating parent class\n",
    "    def __init__(self,cost,mileage):\n",
    "        \n",
    "        self.cost=cost\n",
    "        self.mileage=mileage\n",
    "        \n",
    "    def vehicleDetails(self):\n",
    "        print(\"cost of the vehicle is\",self.cost)\n",
    "        print(\"mileage of the vehicle is\",self.mileage)\n",
    "        "
   ]
  },
  {
   "cell_type": "code",
   "execution_count": 155,
   "id": "7c9af601",
   "metadata": {},
   "outputs": [],
   "source": [
    "class Car(Vehicle): # creating child class and iheriting the properties\n",
    "    \n",
    "    def __init__(self,cost,mileage,name,color):\n",
    "        \n",
    "        super().__init__(cost,mileage)  #using super(). method rewriting the inherited atributes and adding new atributes to it\n",
    "            \n",
    "        self.name=name              # new atributes\n",
    "        self.color=color          \n",
    "    \n",
    "    def CarDetails(self):\n",
    "        \n",
    "        print(\"The name of the car is\",self.name)\n",
    "        print(\"The color of the car is\",self.color)\n",
    "        "
   ]
  },
  {
   "cell_type": "code",
   "execution_count": 157,
   "id": "45fb413a",
   "metadata": {},
   "outputs": [],
   "source": [
    "v1=Car(50000,45,\"BMW\",\"white\") # creating object for child class"
   ]
  },
  {
   "cell_type": "code",
   "execution_count": 158,
   "id": "158b742b",
   "metadata": {},
   "outputs": [
    {
     "name": "stdout",
     "output_type": "stream",
     "text": [
      "cost of the vehicle is 50000\n",
      "mileage of the vehicle is 45\n"
     ]
    }
   ],
   "source": [
    "v1.vehicleDetails()               # calling parent class properties"
   ]
  },
  {
   "cell_type": "code",
   "execution_count": 159,
   "id": "ed858a59",
   "metadata": {},
   "outputs": [
    {
     "name": "stdout",
     "output_type": "stream",
     "text": [
      "The name of the car is BMW\n",
      "The color of the car is white\n"
     ]
    }
   ],
   "source": [
    "v1.CarDetails()                   # calling child class properties"
   ]
  }
 ],
 "metadata": {
  "kernelspec": {
   "display_name": "Python 3 (ipykernel)",
   "language": "python",
   "name": "python3"
  },
  "language_info": {
   "codemirror_mode": {
    "name": "ipython",
    "version": 3
   },
   "file_extension": ".py",
   "mimetype": "text/x-python",
   "name": "python",
   "nbconvert_exporter": "python",
   "pygments_lexer": "ipython3",
   "version": "3.11.4"
  }
 },
 "nbformat": 4,
 "nbformat_minor": 5
}
